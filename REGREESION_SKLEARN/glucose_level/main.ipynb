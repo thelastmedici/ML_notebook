{
 "cells": [
  {
   "cell_type": "code",
   "id": "initial_id",
   "metadata": {
    "collapsed": true,
    "ExecuteTime": {
     "end_time": "2025-09-21T10:33:24.476061Z",
     "start_time": "2025-09-21T10:33:24.073561Z"
    }
   },
   "source": "import pandas as pd",
   "outputs": [],
   "execution_count": 2
  },
  {
   "metadata": {
    "ExecuteTime": {
     "end_time": "2025-09-21T10:33:24.518944Z",
     "start_time": "2025-09-21T10:33:24.497565Z"
    }
   },
   "cell_type": "code",
   "source": [
    "blood_sugar_df = pd.read_csv(\"diabetes_clean.csv\")\n",
    "print(blood_sugar_df.head())"
   ],
   "id": "701c88fb9aae3b57",
   "outputs": [
    {
     "name": "stdout",
     "output_type": "stream",
     "text": [
      "   pregnancies  glucose  diastolic  triceps  insulin   bmi    dpf  age  \\\n",
      "0            6      148         72       35        0  33.6  0.627   50   \n",
      "1            1       85         66       29        0  26.6  0.351   31   \n",
      "2            8      183         64        0        0  23.3  0.672   32   \n",
      "3            1       89         66       23       94  28.1  0.167   21   \n",
      "4            0      137         40       35      168  43.1  2.288   33   \n",
      "\n",
      "   diabetes  \n",
      "0         1  \n",
      "1         0  \n",
      "2         1  \n",
      "3         0  \n",
      "4         1  \n"
     ]
    }
   ],
   "execution_count": 3
  },
  {
   "metadata": {
    "ExecuteTime": {
     "end_time": "2025-09-21T10:33:24.650494Z",
     "start_time": "2025-09-21T10:33:24.632499Z"
    }
   },
   "cell_type": "code",
   "source": [
    "#use all the features in our dataset execpt the target\n",
    "###we drop the target colunn from the feature set\n",
    "####create a new feature and label\n",
    "X = blood_sugar_df.drop(\"glucose\", axis=1).values\n",
    "y = blood_sugar_df.glucose.values"
   ],
   "id": "97f7d0ce7b260485",
   "outputs": [],
   "execution_count": 4
  }
 ],
 "metadata": {
  "kernelspec": {
   "display_name": "Python 3",
   "language": "python",
   "name": "python3"
  },
  "language_info": {
   "codemirror_mode": {
    "name": "ipython",
    "version": 2
   },
   "file_extension": ".py",
   "mimetype": "text/x-python",
   "name": "python",
   "nbconvert_exporter": "python",
   "pygments_lexer": "ipython2",
   "version": "2.7.6"
  }
 },
 "nbformat": 4,
 "nbformat_minor": 5
}
